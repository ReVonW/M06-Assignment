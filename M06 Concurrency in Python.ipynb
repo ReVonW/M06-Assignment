{
 "cells": [
  {
   "cell_type": "code",
   "execution_count": 1,
   "id": "546b5bf3",
   "metadata": {},
   "outputs": [
    {
     "name": "stdout",
     "output_type": "stream",
     "text": [
      "Current date '2023-09-26' has been written to today.txt.\n"
     ]
    }
   ],
   "source": [
    "import datetime\n",
    "\n",
    "current_date = datetime.datetime.now().strftime(\"%Y-%m-%d\")\n",
    "\n",
    "\n",
    "with open(\"today.txt\", \"w\") as file:\n",
    "    file.write(current_date)\n",
    "    \n",
    "print(f\"Current date '{current_date}' has been written to today.txt.\")"
   ]
  },
  {
   "cell_type": "code",
   "execution_count": 4,
   "id": "eba91ca7",
   "metadata": {},
   "outputs": [
    {
     "name": "stdout",
     "output_type": "stream",
     "text": [
      "2023-09-26\n"
     ]
    }
   ],
   "source": [
    "today_string = \"\"\n",
    "\n",
    "\n",
    "try:\n",
    "    with open(\"today.txt\", \"r\") as file:\n",
    "        today_string = file.read()\n",
    "        \n",
    "except FileNotFoundError:\n",
    "    print(\"File 'today.txt' not found.\")\n",
    "    \n",
    "print(today_string)"
   ]
  },
  {
   "cell_type": "code",
   "execution_count": 11,
   "id": "6008aa37",
   "metadata": {},
   "outputs": [
    {
     "name": "stdout",
     "output_type": "stream",
     "text": [
      "Parsed Date: 2023-09-26 00:00:00\n"
     ]
    }
   ],
   "source": [
    "import datetime\n",
    "\n",
    "today_string = \"2023-09-26\"  #Format: YYYY-MM-DD\n",
    "\n",
    "try:\n",
    "    parsed_date = datetime.datetime.strptime(today_string, \"%Y-%m-%d\")\n",
    "    print(\"Parsed Date:\", parsed_data)\n",
    "except ValueError:\n",
    "    print(\"Invalid date format. Please provide the date in YYYY-MM-DD format.\")"
   ]
  },
  {
   "cell_type": "code",
   "execution_count": 10,
   "id": "1bad1259",
   "metadata": {},
   "outputs": [
    {
     "name": "stdout",
     "output_type": "stream",
     "text": [
      "All processes have completed.\n"
     ]
    }
   ],
   "source": [
    "import multiprocessing\n",
    "import random\n",
    "import time\n",
    "from datetime import datetime\n",
    "\n",
    "def worker():\n",
    "    sleep_time = random.random()\n",
    "    \n",
    "    time.sleep(sleep_time)\n",
    "    \n",
    "    current_time = datetime.now().strftime(\"%Y-%m-%d %H:%M:%S\")\n",
    "    \n",
    "    \n",
    "    print(f\"Process {multiprocessing.current_process().name} - Current Time: {current_time}\")\n",
    "    \n",
    "if __name__ == \"__main__\":\n",
    "    processes = [multiprocessing.Process(target=worker) for _ in range(3)]\n",
    "    \n",
    "    \n",
    "    for process in processes:\n",
    "        process.start()\n",
    "        \n",
    "    for process in processes:\n",
    "        process.join()\n",
    "        \n",
    "    print(\"All processes have completed.\")"
   ]
  }
 ],
 "metadata": {
  "kernelspec": {
   "display_name": "Python 3 (ipykernel)",
   "language": "python",
   "name": "python3"
  },
  "language_info": {
   "codemirror_mode": {
    "name": "ipython",
    "version": 3
   },
   "file_extension": ".py",
   "mimetype": "text/x-python",
   "name": "python",
   "nbconvert_exporter": "python",
   "pygments_lexer": "ipython3",
   "version": "3.11.4"
  }
 },
 "nbformat": 4,
 "nbformat_minor": 5
}
